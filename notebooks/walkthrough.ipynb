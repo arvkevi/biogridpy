{
 "cells": [
  {
   "cell_type": "markdown",
   "metadata": {},
   "source": [
    "# biogridpy walkthrough #\n",
    "-----"
   ]
  },
  {
   "cell_type": "code",
   "execution_count": 1,
   "metadata": {
    "collapsed": false
   },
   "outputs": [],
   "source": [
    "from biogridpy.biogrid_client import BioGRID"
   ]
  },
  {
   "cell_type": "code",
   "execution_count": 2,
   "metadata": {
    "collapsed": false
   },
   "outputs": [],
   "source": [
    "# from the biogridpy parent directory:\n",
    "BG = BioGRID()\n",
    "\n",
    "# if in another directory, specify path biogridpyrc\n",
    "#BG = BioGRID(config_filepath='/path/to/biogridpyrc')"
   ]
  },
  {
   "cell_type": "markdown",
   "metadata": {},
   "source": [
    "----------------\n",
    "# Non-Interaction endpoints #\n",
    "<font color='red'>evidence</font>\n",
    "\n",
    ">BG.evidence()\n",
    "\n",
    "<font color='red'>identifiers</font>\n",
    "\n",
    ">BG.identifiers()\n",
    "\n",
    "<font color='red'>organisms</font>\n",
    "\n",
    ">BG.organisms()\n",
    "\n",
    "<font color='red'>version</font>\n",
    "\n",
    ">BG.version()\n",
    "\n",
    "### Each of these accepts only the **format** keyword argument.  Acceptable values are:\n",
    "\n",
    "1.  <font color='blue'>\"tab2\"</font> (default)\n",
    "2.  <font color='blue'>\"json\"</font>\n",
    "    "
   ]
  },
  {
   "cell_type": "markdown",
   "metadata": {},
   "source": [
    "### <font color='blue'>\"tab2\"</font> is default, show with the  <font color='red'>evidence</font> endpoint"
   ]
  },
  {
   "cell_type": "code",
   "execution_count": 3,
   "metadata": {
    "collapsed": false
   },
   "outputs": [],
   "source": [
    "evid = BG.evidence()"
   ]
  },
  {
   "cell_type": "markdown",
   "metadata": {},
   "source": [
    "### <font color='blue'>\"tab2\"</font> results are accessed in list form via the <font color='green'>result</font> attribute"
   ]
  },
  {
   "cell_type": "code",
   "execution_count": 4,
   "metadata": {
    "collapsed": false
   },
   "outputs": [
    {
     "data": {
      "text/plain": [
       "[u'AFFINITY CAPTURE-LUMINESCENCE',\n",
       " u'AFFINITY CAPTURE-MS',\n",
       " u'AFFINITY CAPTURE-RNA',\n",
       " u'AFFINITY CAPTURE-WESTERN',\n",
       " u'BIOCHEMICAL ACTIVITY']"
      ]
     },
     "execution_count": 4,
     "metadata": {},
     "output_type": "execute_result"
    }
   ],
   "source": [
    "evid.result[:5]"
   ]
  },
  {
   "cell_type": "markdown",
   "metadata": {},
   "source": [
    "### similar result with the  <font color='red'>identifiers</font> enpoint"
   ]
  },
  {
   "cell_type": "code",
   "execution_count": 5,
   "metadata": {
    "collapsed": false
   },
   "outputs": [],
   "source": [
    "idents = BG.identifiers(format_=\"tab2\")"
   ]
  },
  {
   "cell_type": "code",
   "execution_count": 6,
   "metadata": {
    "collapsed": false
   },
   "outputs": [
    {
     "data": {
      "text/plain": [
       "[u'ANIMALQTLDB', u'APHIDBASE', u'BEEBASE', u'BGD', u'BIOGRID']"
      ]
     },
     "execution_count": 6,
     "metadata": {},
     "output_type": "execute_result"
    }
   ],
   "source": [
    "idents.result[:5] # first 5 identifiers"
   ]
  },
  {
   "cell_type": "markdown",
   "metadata": {},
   "source": [
    "### format can also be <font color='blue'>\"json\"</font>, shown with the  <font color='red'>organisms</font> endpoint"
   ]
  },
  {
   "cell_type": "code",
   "execution_count": 7,
   "metadata": {
    "collapsed": false,
    "scrolled": true
   },
   "outputs": [],
   "source": [
    "# notice the keyword argument is format_ so it doen't clobber the Python built-in format\n",
    "orgs = BG.organisms(format_='json')"
   ]
  },
  {
   "cell_type": "markdown",
   "metadata": {},
   "source": [
    "### which returns a dictionary-like object"
   ]
  },
  {
   "cell_type": "code",
   "execution_count": 8,
   "metadata": {
    "collapsed": false,
    "scrolled": true
   },
   "outputs": [
    {
     "data": {
      "text/plain": [
       "'Homo sapiens'"
      ]
     },
     "execution_count": 8,
     "metadata": {},
     "output_type": "execute_result"
    }
   ],
   "source": [
    "orgs.result['9606'] #keys are str for json"
   ]
  },
  {
   "cell_type": "markdown",
   "metadata": {},
   "source": [
    "### The  <font color='red'>version</font> endpoint simply returns the BioGRID REST Service version"
   ]
  },
  {
   "cell_type": "code",
   "execution_count": 9,
   "metadata": {
    "collapsed": false
   },
   "outputs": [
    {
     "data": {
      "text/plain": [
       "u'3.4.140'"
      ]
     },
     "execution_count": 9,
     "metadata": {},
     "output_type": "execute_result"
    }
   ],
   "source": [
    "BG.version() # no need to use the result attribute"
   ]
  },
  {
   "cell_type": "markdown",
   "metadata": {},
   "source": [
    "----------------\n",
    "# Interactions endpoints\n",
    "\n",
    "1. <font color='red'>interactions_single</font>\n",
    "2. <font color='red'>interactions</font>\n",
    "\n",
    "## Single Interaction \n",
    "### <font color='red'>interactions_single</font> is a special use version of the <font color='red'>interactions</font> endpoint"
   ]
  },
  {
   "cell_type": "code",
   "execution_count": 10,
   "metadata": {
    "collapsed": false,
    "scrolled": true
   },
   "outputs": [],
   "source": [
    "# the second positional argument is an integer representing the BioGRID interaction ID.\n",
    "single_result = BG.interactions_single('json', 103)"
   ]
  },
  {
   "cell_type": "code",
   "execution_count": 11,
   "metadata": {
    "collapsed": false
   },
   "outputs": [
    {
     "data": {
      "text/plain": [
       "{u'103': {u'BIOGRID_ID_A': 112315,\n",
       "  u'BIOGRID_ID_B': 108607,\n",
       "  u'BIOGRID_INTERACTION_ID': 103,\n",
       "  u'ENTREZ_GENE_A': u'6416',\n",
       "  u'ENTREZ_GENE_B': u'2318',\n",
       "  u'EXPERIMENTAL_SYSTEM': u'Two-hybrid',\n",
       "  u'EXPERIMENTAL_SYSTEM_TYPE': u'physical',\n",
       "  u'MODIFICATION': u'-',\n",
       "  u'OFFICIAL_SYMBOL_A': u'MAP2K4',\n",
       "  u'OFFICIAL_SYMBOL_B': u'FLNC',\n",
       "  u'ONTOLOGY_TERMS': {},\n",
       "  u'ORGANISM_A': 9606,\n",
       "  u'ORGANISM_B': 9606,\n",
       "  u'PUBMED_AUTHOR': u'Marti A (1997)',\n",
       "  u'PUBMED_ID': 9006895,\n",
       "  u'QUALIFICATIONS': u'-',\n",
       "  u'QUANTITATION': u'-',\n",
       "  u'SOURCEDB': u'BIOGRID',\n",
       "  u'SYNONYMS_A': u'JNKK|JNKK1|MAPKK4|MEK4|MKK4|PRKMK4|SAPKK-1|SAPKK1|SEK1|SERK1|SKK1',\n",
       "  u'SYNONYMS_B': u'ABP-280|ABP280A|ABPA|ABPL|FLN2|MFM5|MPD4',\n",
       "  u'SYSTEMATIC_NAME_A': u'-',\n",
       "  u'SYSTEMATIC_NAME_B': u'-',\n",
       "  u'TAGS': u'-',\n",
       "  u'THROUGHPUT': u'Low Throughput'}}"
      ]
     },
     "execution_count": 11,
     "metadata": {},
     "output_type": "execute_result"
    }
   ],
   "source": [
    "single_result.result"
   ]
  },
  {
   "cell_type": "markdown",
   "metadata": {},
   "source": [
    "## <font color='red'>interactions</font> endpoint\n",
    "### The positional argument is the format parameter.  It is required to specify the format.  **kwargs are the same parameters listed on the [BioGRID Help Wiki](http://wiki.thebiogrid.org/doku.php/biogridrest#list_of_parameters)"
   ]
  },
  {
   "cell_type": "code",
   "execution_count": 12,
   "metadata": {
    "collapsed": false
   },
   "outputs": [],
   "source": [
    "# geneList can be a Python list of gene names, or other gene identifiers\n",
    "bg_results = BG.interactions('json', geneList=[\"E2F1\",\"RB1\"], taxId=9606)"
   ]
  },
  {
   "cell_type": "markdown",
   "metadata": {},
   "source": [
    "### <font color='red'>interactions</font> attributes\n",
    "1. **count**\n",
    "2. **endpoint**\n",
    "3. **output_format**\n",
    "4. **headers**\n",
    "5. **raw_result**\n",
    "6. **result**"
   ]
  },
  {
   "cell_type": "markdown",
   "metadata": {},
   "source": [
    "#### The first few attributes just provide information about the query"
   ]
  },
  {
   "cell_type": "code",
   "execution_count": 13,
   "metadata": {
    "collapsed": false
   },
   "outputs": [
    {
     "name": "stdout",
     "output_type": "stream",
     "text": [
      "count: 997\n",
      "\n",
      "endpoint: interactions\n",
      "\n",
      "output_format: json\n",
      "\n",
      "headers: ['BioGRID Interaction ID', 'Entrez Gene Interactor A', 'Entrez Gene Interactor B', 'BioGRID ID Interactor A', 'BioGRID ID Interactor B', 'Systematic Name Interactor A', 'Systematic Name Interactor B', 'Official Symbol Interactor A', 'Official Symbol Interactor B', 'Synonyms Interactor A', 'Synonyms Interactor B', 'Experimental System', 'Experimental System Type', 'Author', 'Pubmed ID', 'Organism Interactor A', 'Organism Interactor B', 'Throughput', 'Score', 'Modification', 'Phenotypes', 'Qualifications', 'Tags', 'Source Database']\n"
     ]
    }
   ],
   "source": [
    "print (\"count: {0}\\n\".format(bg_results.count)) #number of records returned\n",
    "print (\"endpoint: {0}\\n\".format(bg_results.endpoint)) #endpoint used\n",
    "print (\"output_format: {0}\\n\".format(bg_results.output_format)) #format requested\n",
    "print (\"headers: {0}\".format(bg_results.headers)) #column headers"
   ]
  },
  {
   "cell_type": "markdown",
   "metadata": {},
   "source": [
    "#### The <font color='green'>raw_result</font> attribute is an unformatted, list of response strings from the webservice.  (in a list due to pagination for large requests)  This attribute is not really meant to be accessed by the user."
   ]
  },
  {
   "cell_type": "code",
   "execution_count": 14,
   "metadata": {
    "collapsed": false
   },
   "outputs": [
    {
     "name": "stdout",
     "output_type": "stream",
     "text": [
      "<type 'list'>\n",
      "1\n"
     ]
    }
   ],
   "source": [
    "# too long, not printing\n",
    "print (type(bg_results.raw_result))\n",
    "print (len(bg_results.raw_result)) #len is 1 because the default pagination is set to 10,000 records."
   ]
  },
  {
   "cell_type": "markdown",
   "metadata": {},
   "source": [
    "#### The <font color='green'>result</font> attribute is formatted for downstream use if desired.  json format is easier to interact with programmatically because you can access the result like a dictionary."
   ]
  },
  {
   "cell_type": "code",
   "execution_count": 15,
   "metadata": {
    "collapsed": false
   },
   "outputs": [
    {
     "data": {
      "text/plain": [
       "{u'BIOGRID_ID_A': 107452,\n",
       " u'BIOGRID_ID_B': 111860,\n",
       " u'BIOGRID_INTERACTION_ID': 691846,\n",
       " u'ENTREZ_GENE_A': u'1017',\n",
       " u'ENTREZ_GENE_B': u'5925',\n",
       " u'EXPERIMENTAL_SYSTEM': u'Biochemical Activity',\n",
       " u'EXPERIMENTAL_SYSTEM_TYPE': u'physical',\n",
       " u'MODIFICATION': u'Phosphorylation',\n",
       " u'OFFICIAL_SYMBOL_A': u'CDK2',\n",
       " u'OFFICIAL_SYMBOL_B': u'RB1',\n",
       " u'ONTOLOGY_TERMS': {},\n",
       " u'ORGANISM_A': 9606,\n",
       " u'ORGANISM_B': 9606,\n",
       " u'PUBMED_AUTHOR': u'Kim KS (2002)',\n",
       " u'PUBMED_ID': 12190313,\n",
       " u'QUALIFICATIONS': u'Cdk1-Cyclin E.',\n",
       " u'QUANTITATION': u'-',\n",
       " u'SOURCEDB': u'BIOGRID',\n",
       " u'SYNONYMS_A': u'CDKN2|p33(CDK2)',\n",
       " u'SYNONYMS_B': u'OSRC|PPP1R130|RB|p105-Rb|pRb|pp110',\n",
       " u'SYSTEMATIC_NAME_A': u'-',\n",
       " u'SYSTEMATIC_NAME_B': u'RP11-174I10.1',\n",
       " u'TAGS': u'-',\n",
       " u'THROUGHPUT': u'Low Throughput'}"
      ]
     },
     "execution_count": 15,
     "metadata": {},
     "output_type": "execute_result"
    }
   ],
   "source": [
    "bg_results.result['691846'] #json keys have to be str, one example record"
   ]
  },
  {
   "cell_type": "markdown",
   "metadata": {},
   "source": [
    "### <font color='red'>interactions</font> methods\n",
    "1. export\n",
    "2. toDataFrame"
   ]
  },
  {
   "cell_type": "markdown",
   "metadata": {
    "collapsed": true
   },
   "source": [
    "### export\n",
    "**only two keyword arguments, outdir and filename.  The file extension will be either .tab2 or .json depending on the format you chose.**"
   ]
  },
  {
   "cell_type": "code",
   "execution_count": 16,
   "metadata": {
    "collapsed": false
   },
   "outputs": [
    {
     "name": "stdout",
     "output_type": "stream",
     "text": [
      "json\n"
     ]
    }
   ],
   "source": [
    "bg_results.export(outdir='../examples/example_results', \n",
    "                  filename='E2F1_RB1_9606')\n",
    "print (bg_results.output_format)"
   ]
  },
  {
   "cell_type": "markdown",
   "metadata": {},
   "source": [
    "### toDataFrame\n",
    "**This method formats the result so that you can analyze the results in a [pandas](http://pandas.pydata.org/) DataFrame for further analysis.** \n",
    "**The pandas call depends on the format type you chose**"
   ]
  },
  {
   "cell_type": "code",
   "execution_count": 17,
   "metadata": {
    "collapsed": false
   },
   "outputs": [
    {
     "name": "stdout",
     "output_type": "stream",
     "text": [
      "json detected\n"
     ]
    }
   ],
   "source": [
    "import pandas as pd\n",
    "\n",
    "#you could use the following to transform the results regardless of type\n",
    "try:\n",
    "    df = pd.read_csv(bg_results.toDataFrame(), sep='\\t')\n",
    "    print ('tab2 detected')\n",
    "except IOError as e:\n",
    "    df = pd.read_json(bg_results.toDataFrame(), orient='index')\n",
    "    print ('json detected')"
   ]
  },
  {
   "cell_type": "code",
   "execution_count": 18,
   "metadata": {
    "collapsed": false,
    "scrolled": true
   },
   "outputs": [
    {
     "data": {
      "text/html": [
       "<div>\n",
       "<table border=\"1\" class=\"dataframe\">\n",
       "  <thead>\n",
       "    <tr style=\"text-align: right;\">\n",
       "      <th></th>\n",
       "      <th>BIOGRID_ID_A</th>\n",
       "      <th>BIOGRID_ID_B</th>\n",
       "      <th>BIOGRID_INTERACTION_ID</th>\n",
       "      <th>ENTREZ_GENE_A</th>\n",
       "      <th>ENTREZ_GENE_B</th>\n",
       "      <th>EXPERIMENTAL_SYSTEM</th>\n",
       "      <th>EXPERIMENTAL_SYSTEM_TYPE</th>\n",
       "      <th>MODIFICATION</th>\n",
       "      <th>OFFICIAL_SYMBOL_A</th>\n",
       "      <th>OFFICIAL_SYMBOL_B</th>\n",
       "      <th>...</th>\n",
       "      <th>PUBMED_ID</th>\n",
       "      <th>QUALIFICATIONS</th>\n",
       "      <th>QUANTITATION</th>\n",
       "      <th>SOURCEDB</th>\n",
       "      <th>SYNONYMS_A</th>\n",
       "      <th>SYNONYMS_B</th>\n",
       "      <th>SYSTEMATIC_NAME_A</th>\n",
       "      <th>SYSTEMATIC_NAME_B</th>\n",
       "      <th>TAGS</th>\n",
       "      <th>THROUGHPUT</th>\n",
       "    </tr>\n",
       "  </thead>\n",
       "  <tbody>\n",
       "    <tr>\n",
       "      <th>1028335</th>\n",
       "      <td>111860</td>\n",
       "      <td>106543</td>\n",
       "      <td>1028335</td>\n",
       "      <td>5925</td>\n",
       "      <td>25</td>\n",
       "      <td>Reconstituted Complex</td>\n",
       "      <td>physical</td>\n",
       "      <td>-</td>\n",
       "      <td>RB1</td>\n",
       "      <td>ABL1</td>\n",
       "      <td>...</td>\n",
       "      <td>7828850</td>\n",
       "      <td>DNA complex</td>\n",
       "      <td>-</td>\n",
       "      <td>BIOGRID</td>\n",
       "      <td>OSRC|PPP1R130|RB|p105-Rb|pRb|pp110</td>\n",
       "      <td>ABL|JTK7|bcr/abl|c-ABL|c-ABL1|p150|v-abl</td>\n",
       "      <td>RP11-174I10.1</td>\n",
       "      <td>RP11-83J21.1</td>\n",
       "      <td>-</td>\n",
       "      <td>Low Throughput</td>\n",
       "    </tr>\n",
       "    <tr>\n",
       "      <th>1028336</th>\n",
       "      <td>111860</td>\n",
       "      <td>108201</td>\n",
       "      <td>1028336</td>\n",
       "      <td>5925</td>\n",
       "      <td>1869</td>\n",
       "      <td>Reconstituted Complex</td>\n",
       "      <td>physical</td>\n",
       "      <td>-</td>\n",
       "      <td>RB1</td>\n",
       "      <td>E2F1</td>\n",
       "      <td>...</td>\n",
       "      <td>7828850</td>\n",
       "      <td>DNA complex</td>\n",
       "      <td>-</td>\n",
       "      <td>BIOGRID</td>\n",
       "      <td>OSRC|PPP1R130|RB|p105-Rb|pRb|pp110</td>\n",
       "      <td>E2F-1|RBAP1|RBBP3|RBP3</td>\n",
       "      <td>RP11-174I10.1</td>\n",
       "      <td>-</td>\n",
       "      <td>-</td>\n",
       "      <td>Low Throughput</td>\n",
       "    </tr>\n",
       "    <tr>\n",
       "      <th>1028337</th>\n",
       "      <td>106543</td>\n",
       "      <td>111860</td>\n",
       "      <td>1028337</td>\n",
       "      <td>25</td>\n",
       "      <td>5925</td>\n",
       "      <td>Reconstituted Complex</td>\n",
       "      <td>physical</td>\n",
       "      <td>-</td>\n",
       "      <td>ABL1</td>\n",
       "      <td>RB1</td>\n",
       "      <td>...</td>\n",
       "      <td>7828850</td>\n",
       "      <td>DNA complex</td>\n",
       "      <td>-</td>\n",
       "      <td>BIOGRID</td>\n",
       "      <td>ABL|JTK7|bcr/abl|c-ABL|c-ABL1|p150|v-abl</td>\n",
       "      <td>OSRC|PPP1R130|RB|p105-Rb|pRb|pp110</td>\n",
       "      <td>RP11-83J21.1</td>\n",
       "      <td>RP11-174I10.1</td>\n",
       "      <td>-</td>\n",
       "      <td>Low Throughput</td>\n",
       "    </tr>\n",
       "    <tr>\n",
       "      <th>1028723</th>\n",
       "      <td>111860</td>\n",
       "      <td>111831</td>\n",
       "      <td>1028723</td>\n",
       "      <td>5925</td>\n",
       "      <td>5894</td>\n",
       "      <td>Affinity Capture-Western</td>\n",
       "      <td>physical</td>\n",
       "      <td>-</td>\n",
       "      <td>RB1</td>\n",
       "      <td>RAF1</td>\n",
       "      <td>...</td>\n",
       "      <td>19058874</td>\n",
       "      <td>-</td>\n",
       "      <td>-</td>\n",
       "      <td>BIOGRID</td>\n",
       "      <td>OSRC|PPP1R130|RB|p105-Rb|pRb|pp110</td>\n",
       "      <td>CMD1NN|CRAF|NS5|Raf-1|c-Raf</td>\n",
       "      <td>RP11-174I10.1</td>\n",
       "      <td>-</td>\n",
       "      <td>-</td>\n",
       "      <td>Low Throughput</td>\n",
       "    </tr>\n",
       "    <tr>\n",
       "      <th>1028724</th>\n",
       "      <td>111831</td>\n",
       "      <td>111860</td>\n",
       "      <td>1028724</td>\n",
       "      <td>5894</td>\n",
       "      <td>5925</td>\n",
       "      <td>Affinity Capture-Western</td>\n",
       "      <td>physical</td>\n",
       "      <td>-</td>\n",
       "      <td>RAF1</td>\n",
       "      <td>RB1</td>\n",
       "      <td>...</td>\n",
       "      <td>19058874</td>\n",
       "      <td>-</td>\n",
       "      <td>-</td>\n",
       "      <td>BIOGRID</td>\n",
       "      <td>CMD1NN|CRAF|NS5|Raf-1|c-Raf</td>\n",
       "      <td>OSRC|PPP1R130|RB|p105-Rb|pRb|pp110</td>\n",
       "      <td>-</td>\n",
       "      <td>RP11-174I10.1</td>\n",
       "      <td>-</td>\n",
       "      <td>Low Throughput</td>\n",
       "    </tr>\n",
       "  </tbody>\n",
       "</table>\n",
       "<p>5 rows × 24 columns</p>\n",
       "</div>"
      ],
      "text/plain": [
       "         BIOGRID_ID_A  BIOGRID_ID_B  BIOGRID_INTERACTION_ID  ENTREZ_GENE_A  \\\n",
       "1028335        111860        106543                 1028335           5925   \n",
       "1028336        111860        108201                 1028336           5925   \n",
       "1028337        106543        111860                 1028337             25   \n",
       "1028723        111860        111831                 1028723           5925   \n",
       "1028724        111831        111860                 1028724           5894   \n",
       "\n",
       "         ENTREZ_GENE_B       EXPERIMENTAL_SYSTEM EXPERIMENTAL_SYSTEM_TYPE  \\\n",
       "1028335             25     Reconstituted Complex                 physical   \n",
       "1028336           1869     Reconstituted Complex                 physical   \n",
       "1028337           5925     Reconstituted Complex                 physical   \n",
       "1028723           5894  Affinity Capture-Western                 physical   \n",
       "1028724           5925  Affinity Capture-Western                 physical   \n",
       "\n",
       "        MODIFICATION OFFICIAL_SYMBOL_A OFFICIAL_SYMBOL_B       ...        \\\n",
       "1028335            -               RB1              ABL1       ...         \n",
       "1028336            -               RB1              E2F1       ...         \n",
       "1028337            -              ABL1               RB1       ...         \n",
       "1028723            -               RB1              RAF1       ...         \n",
       "1028724            -              RAF1               RB1       ...         \n",
       "\n",
       "        PUBMED_ID  QUALIFICATIONS  QUANTITATION SOURCEDB  \\\n",
       "1028335   7828850     DNA complex             -  BIOGRID   \n",
       "1028336   7828850     DNA complex             -  BIOGRID   \n",
       "1028337   7828850     DNA complex             -  BIOGRID   \n",
       "1028723  19058874               -             -  BIOGRID   \n",
       "1028724  19058874               -             -  BIOGRID   \n",
       "\n",
       "                                       SYNONYMS_A  \\\n",
       "1028335        OSRC|PPP1R130|RB|p105-Rb|pRb|pp110   \n",
       "1028336        OSRC|PPP1R130|RB|p105-Rb|pRb|pp110   \n",
       "1028337  ABL|JTK7|bcr/abl|c-ABL|c-ABL1|p150|v-abl   \n",
       "1028723        OSRC|PPP1R130|RB|p105-Rb|pRb|pp110   \n",
       "1028724               CMD1NN|CRAF|NS5|Raf-1|c-Raf   \n",
       "\n",
       "                                       SYNONYMS_B SYSTEMATIC_NAME_A  \\\n",
       "1028335  ABL|JTK7|bcr/abl|c-ABL|c-ABL1|p150|v-abl     RP11-174I10.1   \n",
       "1028336                    E2F-1|RBAP1|RBBP3|RBP3     RP11-174I10.1   \n",
       "1028337        OSRC|PPP1R130|RB|p105-Rb|pRb|pp110      RP11-83J21.1   \n",
       "1028723               CMD1NN|CRAF|NS5|Raf-1|c-Raf     RP11-174I10.1   \n",
       "1028724        OSRC|PPP1R130|RB|p105-Rb|pRb|pp110                 -   \n",
       "\n",
       "        SYSTEMATIC_NAME_B TAGS      THROUGHPUT  \n",
       "1028335      RP11-83J21.1    -  Low Throughput  \n",
       "1028336                 -    -  Low Throughput  \n",
       "1028337     RP11-174I10.1    -  Low Throughput  \n",
       "1028723                 -    -  Low Throughput  \n",
       "1028724     RP11-174I10.1    -  Low Throughput  \n",
       "\n",
       "[5 rows x 24 columns]"
      ]
     },
     "execution_count": 18,
     "metadata": {},
     "output_type": "execute_result"
    }
   ],
   "source": [
    "df.head()"
   ]
  },
  {
   "cell_type": "code",
   "execution_count": 19,
   "metadata": {
    "collapsed": false
   },
   "outputs": [
    {
     "data": {
      "text/plain": [
       "Affinity Capture-Western         321\n",
       "Reconstituted Complex            169\n",
       "Biochemical Activity             142\n",
       "Two-hybrid                        44\n",
       "Affinity Capture-MS               30\n",
       "Co-fractionation                  11\n",
       "Co-localization                    5\n",
       "Co-purification                    4\n",
       "Affinity Capture-Luminescence      4\n",
       "Protein-peptide                    3\n",
       "Co-crystal Structure               3\n",
       "Far Western                        3\n",
       "Phenotypic Suppression             2\n",
       "FRET                               2\n",
       "Proximity Label-MS                 1\n",
       "Phenotypic Enhancement             1\n",
       "Name: EXPERIMENTAL_SYSTEM, dtype: int64"
      ]
     },
     "execution_count": 19,
     "metadata": {},
     "output_type": "execute_result"
    }
   ],
   "source": [
    "# provides quick access to details about the results:\n",
    "# What type of evidecne were found with RB1\n",
    "df['EXPERIMENTAL_SYSTEM'][(df['OFFICIAL_SYMBOL_A'] == 'RB1') | (df['OFFICIAL_SYMBOL_B'] == 'RB1')].value_counts()"
   ]
  },
  {
   "cell_type": "markdown",
   "metadata": {},
   "source": [
    "## The keyword arguments <font color='green'>geneList</font>, <font color='green'>evidenceList</font> & <font color='green'>additionalIdentifierTypes</font> *can* be a path to file  and/or a Python list.\n"
   ]
  },
  {
   "cell_type": "code",
   "execution_count": 20,
   "metadata": {
    "collapsed": false,
    "scrolled": true
   },
   "outputs": [],
   "source": [
    "bg_results2 = BG.interactions('tab2', geneList=['RB1', 'E2F1'],\n",
    "                                      evidenceList='/media/sf_ubuntuVbox/biogridpy/examples/evidenceList.list',\n",
    "                                      includeEvidence='true',\n",
    "                                      taxId=9606)"
   ]
  },
  {
   "cell_type": "markdown",
   "metadata": {},
   "source": [
    "## biogridpy handles large requests --  It will paginate when there are more than 10,000 records (default max per page)."
   ]
  },
  {
   "cell_type": "code",
   "execution_count": 21,
   "metadata": {
    "collapsed": false
   },
   "outputs": [],
   "source": [
    "bg_results3 = BG.interactions('tab2', geneList='/media/sf_ubuntuVbox/biogridpy/examples/cellcycleGenes.list')"
   ]
  },
  {
   "cell_type": "code",
   "execution_count": 22,
   "metadata": {
    "collapsed": false
   },
   "outputs": [
    {
     "data": {
      "text/plain": [
       "11483"
      ]
     },
     "execution_count": 22,
     "metadata": {},
     "output_type": "execute_result"
    }
   ],
   "source": [
    "bg_results3.count"
   ]
  },
  {
   "cell_type": "code",
   "execution_count": 23,
   "metadata": {
    "collapsed": false
   },
   "outputs": [
    {
     "name": "stdout",
     "output_type": "stream",
     "text": [
      "(11482, 47)\n"
     ]
    },
    {
     "data": {
      "text/html": [
       "<div>\n",
       "<table border=\"1\" class=\"dataframe\">\n",
       "  <thead>\n",
       "    <tr style=\"text-align: right;\">\n",
       "      <th></th>\n",
       "      <th>BioGRID Interaction ID</th>\n",
       "      <th>Entrez Gene Interactor A</th>\n",
       "      <th>Entrez Gene Interactor B</th>\n",
       "      <th>BioGRID ID Interactor A</th>\n",
       "      <th>BioGRID ID Interactor B</th>\n",
       "      <th>Systematic Name Interactor A</th>\n",
       "      <th>Systematic Name Interactor B</th>\n",
       "      <th>Official Symbol Interactor A</th>\n",
       "      <th>Official Symbol Interactor B</th>\n",
       "      <th>Synonyms Interactor A</th>\n",
       "      <th>...</th>\n",
       "      <th>10875894</th>\n",
       "      <th>9606</th>\n",
       "      <th>9606.1</th>\n",
       "      <th>Low Throughput</th>\n",
       "      <th>-.1</th>\n",
       "      <th>-.2</th>\n",
       "      <th>-.3</th>\n",
       "      <th>-.4</th>\n",
       "      <th>-.5</th>\n",
       "      <th>BIOGRID</th>\n",
       "    </tr>\n",
       "  </thead>\n",
       "  <tbody>\n",
       "    <tr>\n",
       "      <th>0</th>\n",
       "      <td>3189</td>\n",
       "      <td>5925</td>\n",
       "      <td>1523</td>\n",
       "      <td>111860</td>\n",
       "      <td>107903</td>\n",
       "      <td>RP11-174I10.1</td>\n",
       "      <td>-</td>\n",
       "      <td>RB1</td>\n",
       "      <td>CUX1</td>\n",
       "      <td>OSRC|PPP1R130|RB|p105-Rb|pRb|pp110</td>\n",
       "      <td>...</td>\n",
       "      <td>NaN</td>\n",
       "      <td>NaN</td>\n",
       "      <td>NaN</td>\n",
       "      <td>NaN</td>\n",
       "      <td>NaN</td>\n",
       "      <td>NaN</td>\n",
       "      <td>NaN</td>\n",
       "      <td>NaN</td>\n",
       "      <td>NaN</td>\n",
       "      <td>NaN</td>\n",
       "    </tr>\n",
       "    <tr>\n",
       "      <th>1</th>\n",
       "      <td>3224</td>\n",
       "      <td>7251</td>\n",
       "      <td>1026</td>\n",
       "      <td>113102</td>\n",
       "      <td>107460</td>\n",
       "      <td>-</td>\n",
       "      <td>-</td>\n",
       "      <td>TSG101</td>\n",
       "      <td>CDKN1A</td>\n",
       "      <td>TSG10|VPS23</td>\n",
       "      <td>...</td>\n",
       "      <td>NaN</td>\n",
       "      <td>NaN</td>\n",
       "      <td>NaN</td>\n",
       "      <td>NaN</td>\n",
       "      <td>NaN</td>\n",
       "      <td>NaN</td>\n",
       "      <td>NaN</td>\n",
       "      <td>NaN</td>\n",
       "      <td>NaN</td>\n",
       "      <td>NaN</td>\n",
       "    </tr>\n",
       "    <tr>\n",
       "      <th>2</th>\n",
       "      <td>3381</td>\n",
       "      <td>7534</td>\n",
       "      <td>993</td>\n",
       "      <td>113366</td>\n",
       "      <td>107428</td>\n",
       "      <td>-</td>\n",
       "      <td>-</td>\n",
       "      <td>YWHAZ</td>\n",
       "      <td>CDC25A</td>\n",
       "      <td>14-3-3-zeta|HEL-S-3|HEL4|KCIP-1|YWHAD</td>\n",
       "      <td>...</td>\n",
       "      <td>NaN</td>\n",
       "      <td>NaN</td>\n",
       "      <td>NaN</td>\n",
       "      <td>NaN</td>\n",
       "      <td>NaN</td>\n",
       "      <td>NaN</td>\n",
       "      <td>NaN</td>\n",
       "      <td>NaN</td>\n",
       "      <td>NaN</td>\n",
       "      <td>NaN</td>\n",
       "    </tr>\n",
       "    <tr>\n",
       "      <th>3</th>\n",
       "      <td>3546</td>\n",
       "      <td>1033</td>\n",
       "      <td>1017</td>\n",
       "      <td>107467</td>\n",
       "      <td>107452</td>\n",
       "      <td>-</td>\n",
       "      <td>-</td>\n",
       "      <td>CDKN3</td>\n",
       "      <td>CDK2</td>\n",
       "      <td>CDI1|CIP2|KAP|KAP1</td>\n",
       "      <td>...</td>\n",
       "      <td>NaN</td>\n",
       "      <td>NaN</td>\n",
       "      <td>NaN</td>\n",
       "      <td>NaN</td>\n",
       "      <td>NaN</td>\n",
       "      <td>NaN</td>\n",
       "      <td>NaN</td>\n",
       "      <td>NaN</td>\n",
       "      <td>NaN</td>\n",
       "      <td>NaN</td>\n",
       "    </tr>\n",
       "    <tr>\n",
       "      <th>4</th>\n",
       "      <td>3626</td>\n",
       "      <td>5932</td>\n",
       "      <td>5933</td>\n",
       "      <td>111867</td>\n",
       "      <td>111868</td>\n",
       "      <td>-</td>\n",
       "      <td>RP11-382A12.1</td>\n",
       "      <td>RBBP8</td>\n",
       "      <td>RBL1</td>\n",
       "      <td>COM1|CTIP|JWDS|RIM|SAE2|SCKL2</td>\n",
       "      <td>...</td>\n",
       "      <td>NaN</td>\n",
       "      <td>NaN</td>\n",
       "      <td>NaN</td>\n",
       "      <td>NaN</td>\n",
       "      <td>NaN</td>\n",
       "      <td>NaN</td>\n",
       "      <td>NaN</td>\n",
       "      <td>NaN</td>\n",
       "      <td>NaN</td>\n",
       "      <td>NaN</td>\n",
       "    </tr>\n",
       "  </tbody>\n",
       "</table>\n",
       "<p>5 rows × 47 columns</p>\n",
       "</div>"
      ],
      "text/plain": [
       "   BioGRID Interaction ID  Entrez Gene Interactor A  Entrez Gene Interactor B  \\\n",
       "0                    3189                      5925                      1523   \n",
       "1                    3224                      7251                      1026   \n",
       "2                    3381                      7534                       993   \n",
       "3                    3546                      1033                      1017   \n",
       "4                    3626                      5932                      5933   \n",
       "\n",
       "   BioGRID ID Interactor A  BioGRID ID Interactor B  \\\n",
       "0                   111860                   107903   \n",
       "1                   113102                   107460   \n",
       "2                   113366                   107428   \n",
       "3                   107467                   107452   \n",
       "4                   111867                   111868   \n",
       "\n",
       "  Systematic Name Interactor A Systematic Name Interactor B  \\\n",
       "0                RP11-174I10.1                            -   \n",
       "1                            -                            -   \n",
       "2                            -                            -   \n",
       "3                            -                            -   \n",
       "4                            -                RP11-382A12.1   \n",
       "\n",
       "  Official Symbol Interactor A Official Symbol Interactor B  \\\n",
       "0                          RB1                         CUX1   \n",
       "1                       TSG101                       CDKN1A   \n",
       "2                        YWHAZ                       CDC25A   \n",
       "3                        CDKN3                         CDK2   \n",
       "4                        RBBP8                         RBL1   \n",
       "\n",
       "                   Synonyms Interactor A   ...   10875894 9606 9606.1  \\\n",
       "0     OSRC|PPP1R130|RB|p105-Rb|pRb|pp110   ...        NaN  NaN    NaN   \n",
       "1                            TSG10|VPS23   ...        NaN  NaN    NaN   \n",
       "2  14-3-3-zeta|HEL-S-3|HEL4|KCIP-1|YWHAD   ...        NaN  NaN    NaN   \n",
       "3                     CDI1|CIP2|KAP|KAP1   ...        NaN  NaN    NaN   \n",
       "4          COM1|CTIP|JWDS|RIM|SAE2|SCKL2   ...        NaN  NaN    NaN   \n",
       "\n",
       "  Low Throughput  -.1  -.2  -.3 -.4 -.5 BIOGRID  \n",
       "0            NaN  NaN  NaN  NaN NaN NaN     NaN  \n",
       "1            NaN  NaN  NaN  NaN NaN NaN     NaN  \n",
       "2            NaN  NaN  NaN  NaN NaN NaN     NaN  \n",
       "3            NaN  NaN  NaN  NaN NaN NaN     NaN  \n",
       "4            NaN  NaN  NaN  NaN NaN NaN     NaN  \n",
       "\n",
       "[5 rows x 47 columns]"
      ]
     },
     "execution_count": 23,
     "metadata": {},
     "output_type": "execute_result"
    }
   ],
   "source": [
    "# we got all 11482 into the results with minimal effort\n",
    "\n",
    "df = pd.read_csv(bg_results3.toDataFrame(), sep='\\t')\n",
    "print (df.shape)\n",
    "df.head()"
   ]
  },
  {
   "cell_type": "markdown",
   "metadata": {},
   "source": [
    "#### additionalIdentifierTypes parameter not working as of 9/24/16 Not even the example from the wiki site\n",
    "#### it seems like BioGRID may be handling the conversion through the API call, without need for the additionalIdentifierTypes parameter"
   ]
  },
  {
   "cell_type": "code",
   "execution_count": 24,
   "metadata": {
    "collapsed": false,
    "scrolled": true
   },
   "outputs": [],
   "source": [
    "#bg_results4 = BG.interactions('tab2', geneList=['Q01094', 'P06400'],\n",
    "#                                      additionalIdentifierTypes=['UNIPROT'])"
   ]
  }
 ],
 "metadata": {
  "anaconda-cloud": {},
  "kernelspec": {
   "display_name": "Python [bgtest2]",
   "language": "python",
   "name": "Python [bgtest2]"
  },
  "language_info": {
   "codemirror_mode": {
    "name": "ipython",
    "version": 2
   },
   "file_extension": ".py",
   "mimetype": "text/x-python",
   "name": "python",
   "nbconvert_exporter": "python",
   "pygments_lexer": "ipython2",
   "version": "2.7.12"
  }
 },
 "nbformat": 4,
 "nbformat_minor": 0
}
